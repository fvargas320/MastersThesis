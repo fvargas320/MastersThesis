{
 "cells": [
  {
   "cell_type": "code",
   "execution_count": 4,
   "id": "95488282",
   "metadata": {},
   "outputs": [
    {
     "name": "stdout",
     "output_type": "stream",
     "text": [
      "Accuracy: 1.00\n",
      "Precision: 1.00\n",
      "Recall: 1.00\n",
      "F1-Score: 1.00\n",
      "Confusion Matrix:\n",
      "[[5 0]\n",
      " [0 1]]\n"
     ]
    }
   ],
   "source": [
    "import pandas as pd\n",
    "import numpy as np\n",
    "from sklearn.ensemble import RandomForestClassifier\n",
    "from sklearn.model_selection import train_test_split\n",
    "from sklearn.metrics import accuracy_score, precision_score, recall_score, f1_score, confusion_matrix\n",
    "\n",
    "data = {\n",
    "    'Start Time': ['2024-05-01 22:30:00', '2024-05-02 22:30:00', '2024-05-03 22:30:00', '2024-05-04 22:30:00', '2024-05-05 22:30:00', \n",
    "                   '2024-05-06 22:30:00', '2024-05-07 22:30:00', '2024-05-08 22:30:00', '2024-05-09 22:30:00', '2024-05-10 22:30:00',\n",
    "                   '2024-05-11 22:30:00', '2024-05-12 22:30:00', '2024-05-13 22:30:00', '2024-05-14 22:30:00', '2024-05-15 22:30:00',\n",
    "                   '2024-05-16 22:30:00', '2024-05-17 22:30:00', '2024-05-18 22:30:00', '2024-05-19 22:30:00', '2024-05-20 22:30:00'],\n",
    "    'End Time': ['2024-05-02 06:30:00', '2024-05-03 06:30:00', '2024-05-04 06:30:00', '2024-05-05 06:30:00', '2024-05-06 06:30:00', \n",
    "                 '2024-05-07 06:30:00', '2024-05-08 06:30:00', '2024-05-09 06:30:00', '2024-05-10 06:30:00', '2024-05-11 06:30:00',\n",
    "                 '2024-05-12 06:30:00', '2024-05-13 06:30:00', '2024-05-14 06:30:00', '2024-05-15 06:30:00', '2024-05-16 06:30:00',\n",
    "                 '2024-05-17 06:30:00', '2024-05-18 06:30:00', '2024-05-19 06:30:00', '2024-05-20 06:30:00', '2024-05-21 06:30:00'],\n",
    "    'Category': ['Light Sleep', 'Deep Sleep', 'REM Sleep', 'Light Sleep', 'Deep Sleep', \n",
    "                 'REM Sleep', 'Light Sleep', 'Deep Sleep', 'REM Sleep', 'Light Sleep',\n",
    "                 'Deep Sleep', 'REM Sleep', 'Light Sleep', 'Deep Sleep', 'REM Sleep',\n",
    "                 'Light Sleep', 'Deep Sleep', 'REM Sleep', 'Light Sleep', 'Deep Sleep'],\n",
    "    'Heart Rate': [60, 55, 65, 62, 57, 66, 61, 56, 64, 63, 58, 67, 59, 54, 65, 62, 57, 66, 61, 56],\n",
    "    'Timestamp': ['2024-05-02 00:30:00', '2024-05-03 02:30:00', '2024-05-04 04:30:00', '2024-05-05 00:30:00', '2024-05-06 02:30:00', \n",
    "                  '2024-05-07 04:30:00', '2024-05-08 00:30:00', '2024-05-09 02:30:00', '2024-05-10 04:30:00', '2024-05-11 00:30:00',\n",
    "                  '2024-05-12 02:30:00', '2024-05-13 04:30:00', '2024-05-14 00:30:00', '2024-05-15 02:30:00', '2024-05-16 04:30:00',\n",
    "                  '2024-05-17 00:30:00', '2024-05-18 02:30:00', '2024-05-19 04:30:00', '2024-05-20 00:30:00', '2024-05-21 02:30:00'],\n",
    "    'HRV_RMSSD': [30, 28, 35, 32, 27, 34, 31, 29, 33, 30, 28, 36, 31, 27, 34, 32, 26, 35, 30, 29],\n",
    "    'HRV_SDNN': [50, 48, 55, 52, 47, 54, 51, 49, 53, 50, 48, 56, 51, 47, 54, 52, 46, 55, 50, 49],\n",
    "    'Sleep_Duration': [8, 7.5, 7, 8, 7.5, 7, 8, 7.5, 7, 8, 7.5, 7, 8, 7.5, 7, 8, 7.5, 7, 8, 7.5],\n",
    "    'Sleep_Efficiency': [90, 92, 85, 91, 93, 84, 90, 92, 85, 91, 92, 83, 90, 93, 84, 91, 94, 85, 90, 92],\n",
    "    'Resting_Heart_Rate': [60, 58, 62, 61, 57, 63, 60, 59, 61, 60, 58, 64, 59, 57, 63, 61, 56, 62, 60, 59],\n",
    "    'Body_Temperature': [36.5, 36.4, 36.6, 36.5, 36.3, 36.7, 36.5, 36.4, 36.6, 36.5, 36.4, 36.8, 36.5, 36.3, 36.7, 36.5, 36.2, 36.6, 36.5, 36.4],\n",
    "    'Training_Heart_Rate': [140, 135, 150, 142, 136, 151, 140, 134, 149, 141, 137, 152, 140, 135, 150, 142, 134, 148, 140, 136],\n",
    "    'Training_Load': [300, 250, 350, 310, 260, 360, 300, 245, 355, 305, 255, 365, 300, 250, 350, 310, 240, 345, 300, 255],\n",
    "    'Injury': [0, 1, 0, 0, 1, 0, 0, 1, 0, 0, 1, 0, 0, 1, 0, 0, 1, 0, 0, 1]  # 0 = No Injury, 1 = Injury\n",
    "}\n",
    "\n",
    "# Create a DataFrame\n",
    "df = pd.DataFrame(data)\n",
    "\n",
    "# Features and target variable\n",
    "features = ['HRV_RMSSD', 'HRV_SDNN', 'Sleep_Duration', 'Sleep_Efficiency', 'Resting_Heart_Rate', 'Body_Temperature', 'Training_Heart_Rate', 'Training_Load']\n",
    "X = df[features]\n",
    "y = df['Injury']\n",
    "\n",
    "# Split the data into training and testing sets with a fixed random state for reproducibility\n",
    "X_train, X_test, y_train, y_test = train_test_split(X, y, test_size=0.3, random_state=42)\n",
    "\n",
    "# Initialize the Random Forest Classifier\n",
    "rf = RandomForestClassifier(n_estimators=100, random_state=42)\n",
    "\n",
    "# Train the model\n",
    "rf.fit(X_train, y_train)\n",
    "\n",
    "# Make predictions\n",
    "y_pred = rf.predict(X_test)\n",
    "\n",
    "# Evaluate the model\n",
    "accuracy = accuracy_score(y_test, y_pred)\n",
    "precision = precision_score(y_test, y_pred)\n",
    "recall = recall_score(y_test, y_pred)\n",
    "f1 = f1_score(y_test, y_pred)\n",
    "conf_matrix = confusion_matrix(y_test, y_pred)\n",
    "\n",
    "# Display the results\n",
    "print(f\"Accuracy: {accuracy:.2f}\")\n",
    "print(f\"Precision: {precision:.2f}\")\n",
    "print(f\"Recall: {recall:.2f}\")\n",
    "print(f\"F1-Score: {f1:.2f}\")\n",
    "print(\"Confusion Matrix:\")\n",
    "print(conf_matrix)"
   ]
  },
  {
   "cell_type": "code",
   "execution_count": null,
   "id": "b8492e4f",
   "metadata": {},
   "outputs": [],
   "source": []
  }
 ],
 "metadata": {
  "kernelspec": {
   "display_name": "Python 3",
   "language": "python",
   "name": "python3"
  },
  "language_info": {
   "codemirror_mode": {
    "name": "ipython",
    "version": 3
   },
   "file_extension": ".py",
   "mimetype": "text/x-python",
   "name": "python",
   "nbconvert_exporter": "python",
   "pygments_lexer": "ipython3",
   "version": "3.8.5"
  }
 },
 "nbformat": 4,
 "nbformat_minor": 5
}
